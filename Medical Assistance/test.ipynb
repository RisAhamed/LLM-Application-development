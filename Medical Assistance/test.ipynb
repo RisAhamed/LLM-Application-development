{
 "cells": [
  {
   "cell_type": "code",
   "execution_count": 1,
   "metadata": {},
   "outputs": [
    {
     "data": {
      "text/plain": [
       "'c:\\\\Users\\\\riswa\\\\Desktop\\\\AI\\\\LLMS-development\\\\Medical Assistance'"
      ]
     },
     "execution_count": 1,
     "metadata": {},
     "output_type": "execute_result"
    }
   ],
   "source": [
    "%pwd\n",
    "\n",
    "import os\n",
    "os.getcwd()\n"
   ]
  },
  {
   "cell_type": "code",
   "execution_count": 2,
   "metadata": {},
   "outputs": [
    {
     "name": "stdout",
     "output_type": "stream",
     "text": [
      "Loaded 637 pages from single PDF\n",
      "Loaded 637 documents from directory\n"
     ]
    }
   ],
   "source": [
    "from langchain.document_loaders import PyPDFLoader,DirectoryLoader\n",
    "from langchain.text_splitter import RecursiveCharacterTextSplitter\n",
    "from langchain.document_loaders import PyPDFLoader, DirectoryLoader\n",
    "from langchain.text_splitter import RecursiveCharacterTextSplitter\n",
    "import os\n",
    "from pathlib import Path\n",
    "from typing import List, Union\n",
    "\n",
    "def load_pdf(file_location: Union[str, Path]) -> List:\n",
    "    \"\"\"\n",
    "    Load PDF document(s) from the given file location.\n",
    "    \n",
    "    Args:\n",
    "        file_location (Union[str, Path]): Path to PDF file or directory containing PDFs\n",
    "        \n",
    "    Returns:\n",
    "        List: List of loaded PDF pages/documents\n",
    "        \n",
    "    Raises:\n",
    "        FileNotFoundError: If the file or directory doesn't exist\n",
    "        ValueError: If the path is invalid or no PDFs are found\n",
    "    \"\"\"\n",
    "    try:\n",
    "        # Convert string path to Path object for better handling\n",
    "        file_path = Path(file_location)\n",
    "        \n",
    "        # Check if path exists\n",
    "        if not file_path.exists():\n",
    "            raise FileNotFoundError(f\"The path {file_path} does not exist\")\n",
    "            \n",
    "        # Handle directory of PDFs\n",
    "        if file_path.is_dir():\n",
    "            loader = DirectoryLoader(\n",
    "                str(file_path),\n",
    "                glob=\"**/*.pdf\",  # Load PDFs from all subdirectories\n",
    "                loader_cls=PyPDFLoader\n",
    "            )\n",
    "            documents = loader.load()\n",
    "            if not documents:\n",
    "                raise ValueError(f\"No PDF files found in directory {file_path}\")\n",
    "            return documents\n",
    "            \n",
    "        # Handle single PDF file\n",
    "        elif file_path.is_file() and file_path.suffix.lower() == '.pdf':\n",
    "            loader = PyPDFLoader(str(file_path))\n",
    "            return loader.load()\n",
    "            \n",
    "        else:\n",
    "            raise ValueError(f\"The path {file_path} is not a PDF file or directory\")\n",
    "            \n",
    "    except Exception as e:\n",
    "        raise Exception(f\"Error loading PDF: {str(e)}\")\n",
    "\n",
    "# Example usage:\n",
    "if __name__ == \"__main__\":\n",
    "    # Example with single PDF\n",
    "    try:\n",
    "        single_pdf = load_pdf(\"Medical_book.pdf\")\n",
    "        print(f\"Loaded {len(single_pdf)} pages from single PDF\")\n",
    "    except Exception as e:\n",
    "        print(f\"Error with single PDF: {e}\")\n",
    "        \n",
    "    # Example with directory of PDFs\n",
    "    try:\n",
    "        pdf_directory = load_pdf(\"Medical_book.pdf\")\n",
    "        print(f\"Loaded {len(pdf_directory)} documents from directory\")\n",
    "    except Exception as e:\n",
    "        print(f\"Error with PDF directory: {e}\")\n"
   ]
  },
  {
   "cell_type": "code",
   "execution_count": 3,
   "metadata": {},
   "outputs": [],
   "source": [
    "def text_splitter(text):\n",
    "    text_splitter = RecursiveCharacterTextSplitter(chunk_size=1000, chunk_overlap=200)\n",
    "    chunks = text_splitter.split_documents(text)\n",
    "    return chunks\n",
    "\n"
   ]
  },
  {
   "cell_type": "code",
   "execution_count": 4,
   "metadata": {},
   "outputs": [
    {
     "data": {
      "text/plain": [
       "Document(metadata={'source': 'Medical_book.pdf', 'page': 0}, page_content='')"
      ]
     },
     "execution_count": 4,
     "metadata": {},
     "output_type": "execute_result"
    }
   ],
   "source": [
    "\n",
    "text_splitter(single_pdf)[0]\n",
    "single_pdf[0]\n"
   ]
  },
  {
   "cell_type": "code",
   "execution_count": 11,
   "metadata": {},
   "outputs": [
    {
     "data": {
      "text/plain": [
       "Document(metadata={'source': 'Medical_book.pdf', 'page': 1}, page_content='The GALE\\nENCYCLOPEDIA\\nof MEDICINE\\nSECOND EDITION')"
      ]
     },
     "execution_count": 11,
     "metadata": {},
     "output_type": "execute_result"
    }
   ],
   "source": [
    "text_splitter(single_pdf)[0]"
   ]
  },
  {
   "cell_type": "code",
   "execution_count": null,
   "metadata": {},
   "outputs": [],
   "source": [
    "from langchain.embeddings import HuggingFaceBgeEmbeddings\n",
    "\n",
    "def download_embeddings():\n",
    "    embeddings = HuggingFaceBgeEmbeddings(model_name='sentence-transformers/all-MiniLM-L6-v2')\n",
    "    return embeddings\n",
    "\n",
    "embeddings = download_embeddings()\n",
    "\n",
    "embeddings.embed_query(\"What is the meaning of life?\")\n"
   ]
  },
  {
   "cell_type": "code",
   "execution_count": 6,
   "metadata": {},
   "outputs": [],
   "source": [
    "from dotenv import load_dotenv\n",
    "\n",
    "load_dotenv()\n",
    "PINECONE_API_KEY=os.environ.get('PINECONE_API_KEY')\n",
    "GROQ_API_KEY=os.environ.get('GROQ_API_KEY')\n",
    "\n",
    "os.environ[\"PINECONE_API_KEY\"] = PINECONE_API_KEY\n",
    "os.environ[\"GROQ_API_KEY\"] = GROQ_API_KEY\n"
   ]
  },
  {
   "cell_type": "code",
   "execution_count": 8,
   "metadata": {},
   "outputs": [
    {
     "data": {
      "text/plain": [
       "'pcsk_5G6ane_8XgZ4N4q55DSFs6b5UAtaFhT2VrAUao437QXswDasLrUimTvp23yjHsWyiJBeY7'"
      ]
     },
     "execution_count": 8,
     "metadata": {},
     "output_type": "execute_result"
    }
   ],
   "source": [
    "PINECONE_API_KEY"
   ]
  },
  {
   "cell_type": "code",
   "execution_count": 9,
   "metadata": {},
   "outputs": [],
   "source": [
    "from pinecone import Pinecone, ServerlessSpec\n",
    "from langchain_pinecone import PineconeVectorStore\n",
    "\n",
    "pc = Pinecone(api_key=PINECONE_API_KEY)\n",
    "index_name = \"medical-chatbot\"  # Changed to lowercase with hyphen\n",
    "\n",
    "pc.create_index(\n",
    "    name=index_name,\n",
    "    dimension=384,\n",
    "    metric=\"cosine\",\n",
    "    spec=ServerlessSpec(\n",
    "        cloud=\"aws\",\n",
    "        region=\"us-east-1\"\n",
    "    ) \n",
    ")"
   ]
  },
  {
   "cell_type": "code",
   "execution_count": 32,
   "metadata": {},
   "outputs": [],
   "source": [
    "import os\n",
    "os.environ[\"PINECONE_API_KEY\"] = PINECONE_API_KEY\n"
   ]
  },
  {
   "cell_type": "code",
   "execution_count": 11,
   "metadata": {},
   "outputs": [],
   "source": [
    "from pinecone import Pinecone, ServerlessSpec\n",
    "from langchain_pinecone import PineconeVectorStore\n",
    "import os\n",
    "\n",
    "# Initialize Pinecone with the API key from environment variable\n",
    "# PINECONE_API_KEY = os.getenv(\"PINECONE_API_KEY\")\n",
    "# pc = Pinecone(api_key=PINECONE_API_KEY)\n",
    "# index_name = \"medical-chatbot\"  # Changed to lowercase with hyphen\n",
    "\n",
    "# # Create the index\n",
    "# pc.create_index(\n",
    "#     name=index_name,\n",
    "#     dimension=384,\n",
    "#     metric=\"cosine\",\n",
    "#     spec=ServerlessSpec(\n",
    "#         cloud=\"aws\",\n",
    "#         region=\"us-east-1\"\n",
    "#     )\n",
    "# )\n",
    "\n",
    "# Create text splitter function if not already defined\n",
    "def text_splitter(documents):\n",
    "    from langchain.text_splitter import RecursiveCharacterTextSplitter\n",
    "    text_splitter = RecursiveCharacterTextSplitter(\n",
    "        chunk_size=1000,\n",
    "        chunk_overlap=200,\n",
    "        length_function=len\n",
    "    )\n",
    "    return text_splitter.split_documents(documents)\n",
    "\n",
    "# Assuming single_pdf is defined elsewhere in your code\n",
    "text_chunks = text_splitter(single_pdf)\n",
    "\n",
    "# Assuming embeddings is defined elsewhere in your code\n",
    "# Create vector store from documents\n",
    "docsearch = PineconeVectorStore.from_documents(\n",
    "    documents=text_chunks,\n",
    "    index_name=index_name,\n",
    "    embedding=embeddings\n",
    ")\n"
   ]
  },
  {
   "cell_type": "code",
   "execution_count": 12,
   "metadata": {},
   "outputs": [],
   "source": [
    "retriever = docsearch.as_retriever(search_type=\"similarity\", search_kwargs={\"k\":3})"
   ]
  },
  {
   "cell_type": "code",
   "execution_count": 13,
   "metadata": {},
   "outputs": [
    {
     "data": {
      "text/plain": [
       "[Document(id='2ca28fb0-375c-4dfe-80cd-d367a329dbb7', metadata={'page': 37.0, 'source': 'Medical_book.pdf'}, page_content='Description\\nAcne vulgaris, the medical term for common acne, is\\nthe most common skin disease. It affects nearly 17 million\\npeople in the United States. While acne can arise at any\\nage, it usually begins at puberty and worsens during ado-\\nlescence. Nearly 85% of people develop acne at some time\\nbetween the ages of 12-25 years. Up to 20% of women\\ndevelop mild acne. It is also found in some newborns.\\nThe sebaceous glands lie just beneath the skin’s sur-\\nface. They produce an oil called sebum, the skin’s natural\\nmoisturizer. These glands and the hair follicles within\\nwhich they are found are called sebaceous follicles.\\nThese follicles open onto the skin through pores. At\\npuberty, increased levels of androgens (male hormones)\\ncause the glands to produce too much sebum. When\\nexcess sebum combines with dead, sticky skin cells, a\\nhard plug, or comedo, forms that blocks the pore. Mild\\nnoninflammatory acne consists of the two types of come-\\ndones, whiteheads and blackheads.'),\n",
       " Document(id='bf26b2e4-cc30-4e05-b5cf-9315fb1be97b', metadata={'page': 38.0, 'source': 'Medical_book.pdf'}, page_content='The goal of treating moderate acne is to decrease\\ninflammation and prevent new comedone formation. One\\neffective treatment is topical tretinoin along with a topical\\nGALE ENCYCLOPEDIA OF MEDICINE 2 25\\nAcne\\nAcne vulgaris affecting a woman’s face. Acne is the general\\nname given to a skin disorder in which the sebaceous\\nglands become inflamed.(Photograph by Biophoto Associ-\\nates, Photo Researchers, Inc. Reproduced by permission.)\\nGEM - 0001 to 0432 - A  10/22/03 1:41 PM  Page 25'),\n",
       " Document(id='d510376f-b7fa-4755-9dec-f733db5c173d', metadata={'page': 37.0, 'source': 'Medical_book.pdf'}, page_content='tranquilizers, antidepressants, antibiotics, oral contra-\\nceptives, and anabolic steroids.\\n• Personal hygiene. Abrasive soaps, hard scrubbing, or\\npicking at pimples will make them worse.\\n• Cosmetics. Oil-based makeup and hair sprays worsen\\nacne.\\n• Environment. Exposure to oils and greases, polluted air,\\nand sweating in hot weather aggravate acne.\\n• Stress. Emotional stress may contribute to acne.\\nAcne is usually not conspicuous, although inflamed\\nlesions may cause pain, tenderness, itching, or swelling.\\nThe most troubling aspects of these lesions are the nega-\\ntive cosmetic effects and potential for scarring. Some\\npeople, especially teenagers, become emotionally upset\\nabout their condition, and have problems forming rela-\\ntionships or keeping jobs.\\nDiagnosis\\nAcne patients are often treated by family doctors.\\nComplicated cases are referred to a dermatologist, a skin\\nGALE ENCYCLOPEDIA OF MEDICINE 224\\nAcne\\nGEM - 0001 to 0432 - A  10/22/03 1:41 PM  Page 24')]"
      ]
     },
     "execution_count": 13,
     "metadata": {},
     "output_type": "execute_result"
    }
   ],
   "source": [
    "retriever.invoke(\"What is Acne?\")"
   ]
  },
  {
   "cell_type": "code",
   "execution_count": null,
   "metadata": {},
   "outputs": [],
   "source": []
  }
 ],
 "metadata": {
  "kernelspec": {
   "display_name": "project",
   "language": "python",
   "name": "python3"
  },
  "language_info": {
   "codemirror_mode": {
    "name": "ipython",
    "version": 3
   },
   "file_extension": ".py",
   "mimetype": "text/x-python",
   "name": "python",
   "nbconvert_exporter": "python",
   "pygments_lexer": "ipython3",
   "version": "3.12.7"
  }
 },
 "nbformat": 4,
 "nbformat_minor": 2
}
