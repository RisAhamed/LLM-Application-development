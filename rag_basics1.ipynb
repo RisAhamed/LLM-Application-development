{
 "cells": [
  {
   "cell_type": "code",
   "execution_count": 2,
   "metadata": {},
   "outputs": [],
   "source": [
    "import os\n",
    "from dotenv import load_dotenv, find_dotenv\n",
    "_ = load_dotenv(find_dotenv())\n",
    "openai_api_key = os.environ[\"OPENAI_API_KEY\"]"
   ]
  },
  {
   "cell_type": "code",
   "execution_count": 4,
   "metadata": {},
   "outputs": [],
   "source": [
    "from langchain_openai import ChatOpenAI\n",
    "\n",
    "chatModel = ChatOpenAI(model=\"gpt-3.5-turbo-0125\")"
   ]
  },
  {
   "cell_type": "code",
   "execution_count": null,
   "metadata": {},
   "outputs": [],
   "source": [
    "messages = [\n",
    "    (\"system\", \"You are an helpful assistant.\"),\n",
    "    (\"human\", \"tell me about riswan\"),\n",
    "]\n",
    "response = chatModel.invoke(messages)\n",
    "print(response.content)"
   ]
  },
  {
   "cell_type": "markdown",
   "metadata": {},
   "source": [
    "# Data Loader"
   ]
  },
  {
   "cell_type": "code",
   "execution_count": 5,
   "metadata": {},
   "outputs": [],
   "source": [
    "# Txt data loading\n",
    "from langchain_community.document_loaders import TextLoader\n",
    "from langchain_community.document_loaders import TextLoader,PyPDFLoader,csv_loader,UnstructuredImageLoader\n",
    "loader = TextLoader(\"data/be-good.txt\")\n",
    "loaded_data = loader.load()"
   ]
  },
  {
   "cell_type": "code",
   "execution_count": 12,
   "metadata": {},
   "outputs": [
    {
     "data": {
      "text/plain": [
       "[Document(metadata={'source': './data/5pages.pdf', 'page': 0}, page_content='Page 1 of 4 \\nPDF Files \\nScan – Create – Reduce File Size  \\n \\n \\nIt is recommended that you purchase an Adobe Acrobat product that \\nallows you to read, create and manipulate PDF documents.  Go to \\nhttp://www.adobe.com/products/acrobat/matrix.html to compare \\nAdobe products and features –Adobe Acrobat Standard is sufficient. \\n \\n \\nScanning Documents \\n \\nYou should only have to scan documents that are not electronic, and \\nwhen you are unable to create a PDF using PDFMaker or the Print \\nCommand from the application you are using.   \\n \\nSignature Pages \\nIf you have a document such as a CV that requires a signature on a \\npage only print the page that requires the signature –printing the \\nentire document and scanning it is not necessary or desired.  Once you \\nsign and scan the signature page you can combine it with the original \\ndocument using the Create PDF From Multiple Files feature. \\n \\nScanner Settings \\nBefore scanning documents remember to make certain that the \\nfollowing settings are activated on your scanner (settings may vary): \\n\\x83 Document Mode \\n\\x83 Scan to smallest size \\n\\x83 Fast (lowest quality) \\n\\x83 Grayscale or black and white  \\n\\x83 Resolution: 300dpi or less'),\n",
       " Document(metadata={'source': './data/5pages.pdf', 'page': 1}, page_content='Page 2 of 4 \\nCreating PDF Documents \\n \\n \\nOption 1 – Use Adobe PDF Printer Command: \\nIn many authoring applications, you can use the Print command with \\nthe Adobe PDF printer to convert your file to PDF.  \\n \\nCreate a PDF using the Print command (Windows) \\n1. Open the file in its authoring application, and choose File > Print. \\n2. Choose Adobe PDF from the printer menu. \\n \\n \\n \\n3. Click the Properties (or Preferences) button to customize the Adobe \\nPDF printer setting. (In some applications, you may need to click \\nSetup in the Print dialog box to open the list of printers, and then click \\nProperties or Preferences.)  Choose Smallest File Size as your default \\nsetting. \\n \\n \\n \\n4. In the Print dialog box, click OK and Save your file. \\n \\n \\n \\nCreate a PDF using the Print command (Mac OS) \\n1. Open the file in its authoring application, and choose File > Print. \\n2. Click on the PDF button in the Print window. \\n3. Click Save as PDF.'),\n",
       " Document(metadata={'source': './data/5pages.pdf', 'page': 2}, page_content='Page 3 of 4 \\nCreating PDF Documents (continued) \\n \\nOption 2: If you do not have Acrobat Standard or higher \\ninstalled use PS2PSF.*  \\n \\n \\n \\n \\n \\n \\n1. Open the file in its authoring application, and choose File > Print. \\n2. Select “Print to File” and save. \\n3. Open your browser and go to http://ps2pdf.com/convert.htm \\n4. Click “browse” select the file you created in step 2 (.prn or .ps), \\nclick “convert” \\n5. Download the newly created PDF file. \\n*Note: Some formatting changes may occur once converted (bullets \\nmay turn to symbols and color may become black and white).'),\n",
       " Document(metadata={'source': './data/5pages.pdf', 'page': 3}, page_content='Page 4 of 4 \\nReducing File Size Options \\n \\n*WebDCU will accept files up to 2.0MB.* \\n \\nHere is a rough estimate for PDF file sizes: \\nIf the contents are pure text, like a CV, the file size is usually 10kb per \\npage; therefore, a 1MB file will have about 100 pages.  If the file \\nincludes some pictures, the file size may increase. If the file is a \\npicture, like a scanned license or certification, you may have different \\nfile sizes based on the picture quality.  In most cases, saving the file at \\nabout 250kb per page should be enough to generate a clear picture. \\n \\nOption 1 – Use Adobe PDF Print Command: \\n1. Open the PDF file, and choose File > Print. \\n2. Choose Adobe PDF from the printer menu next to Name. \\n3. Click the Properties (or Preferences) button to customize the Adobe \\nPDF printer setting. (In some applications, you may need to click \\nSetup in the Print dialog box to open the list of printers, and then click \\nProperties or Preferences.)  Choose Smallest File Size as your default \\nsetting. \\n4. In the Print dialog box, click OK.   \\n5. Save the new (smaller) PDF file. \\n \\n \\nOption 2 – Use Adobe PDF “Reduce File Size”: \\n1. Open the file in Adobe Acrobat and choose File > Reduce File Size...  \\n2. For our purposes, please make these files \"compatible with\" version \\nAcrobat 5.0 or later. \\n3. Save the new (smaller) PDF file.')]"
      ]
     },
     "execution_count": 12,
     "metadata": {},
     "output_type": "execute_result"
    }
   ],
   "source": [
    "loaded_data"
   ]
  },
  {
   "cell_type": "code",
   "execution_count": 8,
   "metadata": {},
   "outputs": [],
   "source": [
    "# CSV loader\n",
    "\n",
    "from langchain_community.document_loaders import CSVLoader\n",
    "\n",
    "loader = CSVLoader('./data/Street_Tree_List.csv')\n",
    "\n",
    "loaded_data = loader.load()\n",
    "loaded_data"
   ]
  },
  {
   "cell_type": "code",
   "execution_count": null,
   "metadata": {},
   "outputs": [],
   "source": [
    "from langchain_community.document_loaders import UnstructuredHTMLLoader\n",
    "\n",
    "loader = UnstructuredHTMLLoader('./data/100-startups.html')\n",
    "\n",
    "loaded_data = loader.load()"
   ]
  },
  {
   "cell_type": "code",
   "execution_count": null,
   "metadata": {},
   "outputs": [],
   "source": [
    "# loaded_data"
   ]
  },
  {
   "cell_type": "code",
   "execution_count": 13,
   "metadata": {},
   "outputs": [],
   "source": [
    "# Pdf data\n",
    "\n",
    "from langchain_community.document_loaders import PyPDFLoader\n",
    "\n",
    "loader = PyPDFLoader('./data/5pages.pdf',extract_images= True)\n",
    "\n",
    "loaded_data = loader.load_and_split()"
   ]
  },
  {
   "cell_type": "code",
   "execution_count": 14,
   "metadata": {},
   "outputs": [
    {
     "data": {
      "text/plain": [
       "[Document(metadata={'source': './data/5pages.pdf', 'page': 0}, page_content='Page 1 of 4 \\nPDF Files \\nScan – Create – Reduce File Size  \\n \\n \\nIt is recommended that you purchase an Adobe Acrobat product that \\nallows you to read, create and manipulate PDF documents.  Go to \\nhttp://www.adobe.com/products/acrobat/matrix.html to compare \\nAdobe products and features –Adobe Acrobat Standard is sufficient. \\n \\n \\nScanning Documents \\n \\nYou should only have to scan documents that are not electronic, and \\nwhen you are unable to create a PDF using PDFMaker or the Print \\nCommand from the application you are using.   \\n \\nSignature Pages \\nIf you have a document such as a CV that requires a signature on a \\npage only print the page that requires the signature –printing the \\nentire document and scanning it is not necessary or desired.  Once you \\nsign and scan the signature page you can combine it with the original \\ndocument using the Create PDF From Multiple Files feature. \\n \\nScanner Settings \\nBefore scanning documents remember to make certain that the \\nfollowing settings are activated on your scanner (settings may vary): \\n\\x83 Document Mode \\n\\x83 Scan to smallest size \\n\\x83 Fast (lowest quality) \\n\\x83 Grayscale or black and white  \\n\\x83 Resolution: 300dpi or less'),\n",
       " Document(metadata={'source': './data/5pages.pdf', 'page': 1}, page_content='Page 2 of 4 \\nCreating PDF Documents \\n \\n \\nOption 1 – Use Adobe PDF Printer Command: \\nIn many authoring applications, you can use the Print command with \\nthe Adobe PDF printer to convert your file to PDF.  \\n \\nCreate a PDF using the Print command (Windows) \\n1. Open the file in its authoring application, and choose File > Print. \\n2. Choose Adobe PDF from the printer menu. \\n \\n \\n \\n3. Click the Properties (or Preferences) button to customize the Adobe \\nPDF printer setting. (In some applications, you may need to click \\nSetup in the Print dialog box to open the list of printers, and then click \\nProperties or Preferences.)  Choose Smallest File Size as your default \\nsetting. \\n \\n \\n \\n4. In the Print dialog box, click OK and Save your file. \\n \\n \\n \\nCreate a PDF using the Print command (Mac OS) \\n1. Open the file in its authoring application, and choose File > Print. \\n2. Click on the PDF button in the Print window. \\n3. Click Save as PDF.\\nAdobePDFDocumentProperties\\n区\\nLayout\\nPaper/Quality\\nAdobe PDF Seltings\\nAdobePDFConversionSettings\\nUse these settings to create Adobe PDF documents best suited for on-screen display, e-mail,\\nand the InternetCreated PDF documents can be opened withAcrobat and Adobe Reader\\n5.0 and later.\\nDefault Settings:\\nSmallest File Size\\nEdit...\\nAdobe PDF Segurity.\\nNone\\nEdit...\\nAdobe PDF Output Folder\\nPrompt for Adobe PDF filename\\nBrowse...\\nAdobe PDF Page Size:\\netter\\nAdd...\\nView Adobe PDF results\\nAddDocumentInformationPrint\\nPrinter\\nName:\\nAdobe PDF\\nProperties\\nStatus:\\naPI\\nType:\\nAdobePDFConverter\\nFind Printer...\\nWhere:\\nMy Documents\\\\*,pdf\\nComment:\\nPrint to file\\nPrintrange\\nCoples\\nlumhe'),\n",
       " Document(metadata={'source': './data/5pages.pdf', 'page': 2}, page_content='Page 3 of 4 \\nCreating PDF Documents (continued) \\n \\nOption 2: If you do not have Acrobat Standard or higher \\ninstalled use PS2PSF.*  \\n \\n \\n \\n \\n \\n \\n1. Open the file in its authoring application, and choose File > Print. \\n2. Select “Print to File” and save. \\n3. Open your browser and go to http://ps2pdf.com/convert.htm \\n4. Click “browse” select the file you created in step 2 (.prn or .ps), \\nclick “convert” \\n5. Download the newly created PDF file. \\n*Note: Some formatting changes may occur once converted (bullets \\nmay turn to symbols and color may become black and white). \\n \\n \\n \\n \\n \\nPrint\\n区\\nPrinter\\nName:\\nPRINTER\\nProperties\\nStatus:\\nIdle\\nFind Printer...\\nType:\\nHP LaserJet 4350 PS\\nWhere:\\nDominos Farms - 3105\\nPrint to fle\\nComment:\\nHP LJ 4350PCL6\\nManual duplex\\n-Page range\\nCopies\\nNumber of copies:\\ne\\nC Current page\\nC Selection\\nO Pages:\\nCollate\\nEnter page numbers and/or page ranges\\n18\\nseparated by commas. For example, 1,3,5-12\\nne\\nZoom\\nPrint what:\\nDocument\\np\\nPrint:\\nAll pages in range\\nPages per sheet:\\n1page\\nScale to paper size:\\nNo Scaling\\nOptions...\\nOK\\nCancel\\necPS2PDF.com\\nThe\\nOnline\\nConverter'),\n",
       " Document(metadata={'source': './data/5pages.pdf', 'page': 3}, page_content='Page 4 of 4 \\nReducing File Size Options \\n \\n*WebDCU will accept files up to 2.0MB.* \\n \\nHere is a rough estimate for PDF file sizes: \\nIf the contents are pure text, like a CV, the file size is usually 10kb per \\npage; therefore, a 1MB file will have about 100 pages.  If the file \\nincludes some pictures, the file size may increase. If the file is a \\npicture, like a scanned license or certification, you may have different \\nfile sizes based on the picture quality.  In most cases, saving the file at \\nabout 250kb per page should be enough to generate a clear picture. \\n \\nOption 1 – Use Adobe PDF Print Command: \\n1. Open the PDF file, and choose File > Print. \\n2. Choose Adobe PDF from the printer menu next to Name. \\n3. Click the Properties (or Preferences) button to customize the Adobe \\nPDF printer setting. (In some applications, you may need to click \\nSetup in the Print dialog box to open the list of printers, and then click \\nProperties or Preferences.)  Choose Smallest File Size as your default \\nsetting. \\n4. In the Print dialog box, click OK.   \\n5. Save the new (smaller) PDF file. \\n \\n \\nOption 2 – Use Adobe PDF “Reduce File Size”: \\n1. Open the file in Adobe Acrobat and choose File > Reduce File Size...  \\n2. For our purposes, please make these files \"compatible with\" version \\nAcrobat 5.0 or later. \\n3. Save the new (smaller) PDF file. \\n \\n \\n \\n \\nAdobe Acrobat Professional-[Adobe_Presenter_Quiz\\nFile\\nEdit View Document Comments Tools Advanced\\nOpen...\\n0+140\\nCreate PDF\\nOrganizer\\n69\\nEmail..\\nBookmarks\\nClose\\nCtl+W\\nSave\\nctl+s\\nSave As...\\nShift+Ctrl+S\\nSignatures\\nSave as Certified Document...\\nRevert\\nReduce File Size...\\nSend for Reyiew...\\nForm Data\\nDocument Properties...\\nModel Tree\\nPrint Setup...\\nShift+Ctrl+P\\nPrint...\\nCtl+P\\nPrint with Comments Summary..\\n1+A0\\nPrintMe Internet Printing...\\nShift+Ctrl+9\\nHistory\\n1 D:\\\\..\\\\Adobe_Presenter_Quiz_Manager.pdf\\n2 D:\\\\......b Certificate -Nursing 1-21-09,pdf\\n3 D:\\\\......al Club CEU Evaluation 1-21-09.pdf\\n4 D:\\\\joypink\\\\Desktop\\\\NIH_Stroke_Scale.pdf\\n5 D:\\\\.....ub Certificate-Nursing 1-21-09.pdf\\n1.83\\ncul+Q')]"
      ]
     },
     "execution_count": 14,
     "metadata": {},
     "output_type": "execute_result"
    }
   ],
   "source": [
    "loaded_data"
   ]
  },
  {
   "cell_type": "code",
   "execution_count": 12,
   "metadata": {},
   "outputs": [
    {
     "data": {
      "text/plain": [
       "'Page 1 of 4 PDF Files \\nScan – Create – Reduce File Size  \\n \\n \\nIt is recommended that you purchase an Adobe Acrobat product that \\nallows you to read, create and manipulate PDF documents.  Go to http://www.adobe.com/products/acrobat/matrix.html\\n to compare \\nAdobe products and features –Adobe  Acrobat Standard is sufficient. \\n \\n \\nScanning Documents \\n \\nYou should only have to scan docu ments that are not electronic, and \\nwhen you are unable to create a PDF using PDFMaker or the Print \\nCommand from the applicat ion you are using.   \\n \\nSignature Pages If you have a document such as a CV that requires a signature on a page only print the page that re quires the signature –printing the \\nentire document and scanning it is not\\n necessary or desired.  Once you \\nsign and scan the signature page you can combine it with the original \\ndocument using the Create PDF From Multiple Files feature. \\n Scanner Settings Before scanning documents rememb er to make certain that the \\nfollowing settings are activated on your scanner (settings may vary): \\x83 Document Mode \\n\\x83 Scan to smallest size \\n\\x83 Fast (lowest quality) \\n\\x83 Grayscale or black and white  \\n\\x83 Resolution: 300dpi or less'"
      ]
     },
     "execution_count": 12,
     "metadata": {},
     "output_type": "execute_result"
    }
   ],
   "source": [
    "loaded_data[0].page_content"
   ]
  },
  {
   "cell_type": "code",
   "execution_count": 15,
   "metadata": {},
   "outputs": [],
   "source": [
    "# wikipedia data loader\n",
    "\n",
    "from langchain_community.document_loaders import WikipediaLoader\n",
    "\n",
    "loader = WikipediaLoader(query=\"LLMs jail Breaking\", load_max_docs=1)\n",
    "\n",
    "loaded_data = loader.load()[0].page_content"
   ]
  },
  {
   "cell_type": "code",
   "execution_count": 16,
   "metadata": {},
   "outputs": [
    {
     "data": {
      "text/plain": [
       "'ChatGPT is a generative artificial intelligence chatbot developed by OpenAI and launched in 2022. It is currently based on the GPT-4o large language model (LLM). ChatGPT can generate human-like conversational responses and enables users to refine and steer a conversation towards a desired length, format, style, level of detail, and language. It is credited with accelerating the AI boom, which has led to ongoing rapid investment in and public attention to the field of artificial intelligence (AI). Some observers have raised concern about the potential of ChatGPT and similar programs to displace human intelligence, enable plagiarism, or fuel misinformation.\\nBy January 2023, ChatGPT had become what was then the fastest-growing consumer software application in history, gaining over 100 million users in two months and contributing to the growth of OpenAI\\'s current valuation of $86 billion. ChatGPT\\'s release spurred the release of competing products, including Gemini, Claude, Llama, Ernie, and Grok. Microsoft launched Copilot, initially based on OpenAI\\'s GPT-4. In May 2024, a partnership between Apple Inc. and OpenAI was announced, in which ChatGPT was integrated into the Apple Intelligence feature of Apple operating systems. As of July 2024, ChatGPT\\'s website is among the 10 most-visited websites globally.\\nChatGPT is built on OpenAI\\'s proprietary series of generative pre-trained transformer (GPT) models and is fine-tuned for conversational applications using a combination of supervised learning and reinforcement learning from human feedback. Successive user prompts and replies are considered at each conversation stage as context. ChatGPT was released as a freely available research preview, but due to its popularity, OpenAI now operates the service on a freemium model. Users on its free tier can access GPT-4o. The ChatGPT subscriptions \"Plus\", \"Team\", and \"Enterprise\" provide additional features such as DALL-E 3 image generation and an increased usage limit.\\n\\n\\n== Training ==\\n\\nChatGPT is based on particular GPT foundation models, namely GPT-4, GPT-4o and GPT-4o mini, that were fine-tuned to target conversational usage. The fine-tuning process leveraged supervised learning and reinforcement learning from human feedback (RLHF). Both approaches employed human trainers to improve model performance. In the case of supervised learning, the trainers played both sides: the user and the AI assistant. In the reinforcement learning stage, human trainers first ranked responses that the model had created in a previous conversation. These rankings were used to create \"reward models\" that were used to fine-tune the model further by using several iterations of proximal policy optimization.\\nTime magazine revealed that to build a safety system against harmful content (e.g., sexual abuse, violence, racism, sexism), OpenAI used outsourced Kenyan workers earning less than $2 per hour to label harmful content. These labels were used to train a model to detect such content in the future. The outsourced laborers were exposed to \"toxic\" and traumatic content; one worker described the assignment as \"torture\". OpenAI\\'s outsourcing partner was Sama, a training-data company based in San Francisco, California.\\nChatGPT initially used a Microsoft Azure supercomputing infrastructure, powered by Nvidia GPUs, that Microsoft built specifically for OpenAI and that reportedly cost \"hundreds of millions of dollars\". Following ChatGPT\\'s success, Microsoft dramatically upgraded the OpenAI infrastructure in 2023. Scientists at the University of California, Riverside, estimate that a series of prompts to ChatGPT needs approximately 500 milliliters (18 imp fl oz; 17 U.S. fl oz) of water for Microsoft servers cooling. TrendForce market intelligence estimated that 30,000 Nvidia GPUs (each costing approximately $10,000–15,000) were used to power ChatGPT in 2023.\\nOpenAI collects data from ChatGPT users to train and fine-tune the service further. Users can upvote or downvote respon'"
      ]
     },
     "execution_count": 16,
     "metadata": {},
     "output_type": "execute_result"
    }
   ],
   "source": [
    "loaded_data"
   ]
  },
  {
   "cell_type": "code",
   "execution_count": 19,
   "metadata": {},
   "outputs": [],
   "source": [
    "from langchain_core.prompts import ChatPromptTemplate\n",
    "\n",
    "chat_template = ChatPromptTemplate.from_messages(\n",
    "    [\n",
    "        (\"human\", \"Answer this {question}, here is some extra {context}\"),\n",
    "    ]\n",
    ")\n",
    "\n",
    "messages = chat_template.format_messages(\n",
    "    name=\"Tesla\",\n",
    "    question=\"Tell me about tesla\",\n",
    "    context=loaded_data\n",
    ")"
   ]
  },
  {
   "cell_type": "code",
   "execution_count": 20,
   "metadata": {},
   "outputs": [],
   "source": [
    "response = chatModel.invoke(messages)"
   ]
  },
  {
   "cell_type": "code",
   "execution_count": 21,
   "metadata": {},
   "outputs": [
    {
     "data": {
      "text/plain": [
       "\"Marc Tarpenning also left the company around the same time. Elon Musk took over as CEO in 2008 and played a more active role in the company's operations.\\nThe Tesla Roadster, a high-performance electric sports car, was the company's first production vehicle. It was introduced in 2008 and was based on the Lotus Elise chassis. The Roadster had a range of over 200 miles on a single charge, making it one of the first electric vehicles to offer long-range driving capabilities.\\nThe Roadster helped establish Tesla as a leader in the electric vehicle market and set the stage for the company's future success. It was followed by the Model S sedan, which was introduced in 2012 and quickly gained popularity for its performance, range, and luxury features.\\nTesla continued to expand its product lineup with the Model X SUV in 2015, the Model 3 sedan in 2017, and the Model Y crossover in 2020. The company also entered the commercial vehicle market with the introduction of the Tesla Semi truck in 2022 and the Cybertruck pickup truck in 2023.\\nAs of 2023, Tesla is one of the most valuable automakers in the world and continues to lead the market in electric vehicle technology. The company's innovative approach to sustainable transportation has helped drive the adoption of electric vehicles worldwide.\""
      ]
     },
     "execution_count": 21,
     "metadata": {},
     "output_type": "execute_result"
    }
   ],
   "source": [
    "response.content"
   ]
  },
  {
   "cell_type": "code",
   "execution_count": null,
   "metadata": {},
   "outputs": [],
   "source": []
  }
 ],
 "metadata": {
  "kernelspec": {
   "display_name": "project",
   "language": "python",
   "name": "python3"
  },
  "language_info": {
   "codemirror_mode": {
    "name": "ipython",
    "version": 3
   },
   "file_extension": ".py",
   "mimetype": "text/x-python",
   "name": "python",
   "nbconvert_exporter": "python",
   "pygments_lexer": "ipython3",
   "version": "3.12.7"
  }
 },
 "nbformat": 4,
 "nbformat_minor": 2
}
